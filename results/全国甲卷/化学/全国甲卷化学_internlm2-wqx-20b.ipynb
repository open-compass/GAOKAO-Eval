{
  "cells": [
    {
      "cell_type": "markdown",
      "metadata": {},
      "source": [
        "# 试卷名：全国甲卷 高考真题 【化学】学科\n",
        "\n",
        "## 题目编号：1\n",
        "## 题目标答\n",
        "C\n",
        "## InternLM-WQX 模型输出\n",
        "【详解】A．木材与煤均含有碳元素，故A正确；B．石油裂化可生产汽油，故B正确；C．燃料电池将化学能转化为电能，故C错误；D．太阳能光解水可制氢，故D正确；故选C。\n",
        "\n",
        "--------\n",
        "## 题目编号：2\n",
        "## 题目标答\n",
        "D\n",
        "## InternLM-WQX 模型输出\n",
        "A．用氢氟酸刻蚀玻璃，氢氟酸为弱酸，不能拆，故A错误； B．用三氯化铁溶液刻制覆铜电路板，离子方程式为 $2\\text{Fe}^{3+}+\\text{Cu}=\\text{Cu}^{2+}+2\\text{Fe}^{2+}$，故B错误； C．用硫代硫酸钠溶液脱氯，离子方程式为 $\\text{S}_2{\\text{O}}_3^{2-}+4\\text{Cl}_2+5\\text{H}_2\\text{O}=2\\text{SO}_4^{2-}+8\\text{Cl}^-+10\\text{H}^+$，故C错误； D．用碳酸钠溶液浸泡锅炉水垢中的硫酸钙，离子方程式为 $\\text{CaSO}_4{+\\text{CO}}_3^{2-}=\\text{CaCO}_3{+\\text{SO}}_4^{2-}$，故D正确； 故选D。\n",
        "\n",
        "--------\n",
        "## 题目编号：3（含图片）\n",
        "## 题目标答\n",
        "C\n",
        "## InternLM-WQX 模型输出\n",
        "A．PLA在碱性条件下可发生水解反应，生成乳酸盐和乳酸，A无误；B．MP的化学名称是丙酸甲酯，B无误；C．MP的同分异构体中含羧基的有2种，C有误；D．MMA中含有碳碳双键，可加聚生成高分子，D无误；故正确答案为C。\n",
        "\n",
        "--------\n",
        "## 题目编号：4（含图片）\n",
        "## 题目标答\n",
        "B\n",
        "## InternLM-WQX 模型输出\n",
        "A．由分析可知，a为Na<sub>2</sub>CO<sub>3</sub>，碳酸钠溶液呈碱性，A正确； B．由分析可知，f为氢氧化铝，氢氧化铝能溶于强碱，所以氢氧化铝可溶于过量的Na<sub>2</sub>CO<sub>3</sub>中，B正确； C．由分析可知，c为AlCl<sub>3</sub>，c中通入过量的二氧化碳生成氢氧化铝沉淀，不能得到无色溶液，C错误； D．由分析可知，b为Ba(OH)<sub>2</sub>，d为NH<sub>4</sub>NO<sub>3</sub>，b和d反应生成的沉淀为氢氧化钡，氢氧化钡溶于稀硝酸，D错误； 故选AB。\n",
        "\n",
        "--------\n",
        "## 题目编号：5\n",
        "## 题目标答\n",
        "A\n",
        "## InternLM-WQX 模型输出\n",
        "根据分析可知，W为H，X为O，Y为F，Z为S元素。 A．O属于第VIA族元素，S属于第VIA族元素，二者属于同一主族，故A正确； B．同一周期从左向右非金属性逐渐增强，同一主族从上到下非金属性逐渐减弱，则非金属性：$\\text{Y}> \\text{X}> \\text{Z}$，故B错误； C．非金属性：$\\text{Y}> \\text{Z}$，则气态氢化物的稳定性：$\\text{Y}> \\text{Z}$，故C错误； D．同一周期从左向右原子半径逐渐减小，同一主族从上到下原子半径逐渐增大，则原子半径：$\\text{Z}> \\text{X}> \\text{Y}$，故D错误； 故选：A。\n",
        "\n",
        "--------\n",
        "## 题目编号：6（含图片）\n",
        "## 题目标答\n",
        "C\n",
        "## InternLM-WQX 模型输出\n",
        "A．充电时阳离子向阴极移动，故A错误； B．充电时，阳极发生氧化反应，阴极发生还原反应，故B错误； C．放电时，正极发生还原反应，电极反应式为 $\\text{MnO}_2+\\text{H}_2\\text{O}+\\text{e}^-=\\text{MnOOH}+\\text{OH}^-$，故C正确； D．放电时，$\\text{Zn}$ 电极质量减少 $0.65\\text{g}$，转移电子数为 $\\frac{0.65\\text{g}}{65\\text{g}/\\text{mol}}\\times 2=0.02\\text{mol}$，$\\text{MnO}_2$ 电极生成了 $0.02\\text{mol~MnOOH}$，故D正确； 故选CD。\n",
        "\n",
        "--------\n",
        "## 题目编号：7（含图片）\n",
        "## 题目标答\n",
        "D\n",
        "## InternLM-WQX 模型输出\n",
        "A．交点a处溶液中氯离子浓度和银离子浓度相同，根据电荷守恒，钠离子浓度等于氯离子浓度的2倍，A正确； B．根据题意，交点a处溶液中氯离子浓度和银离子浓度相同，则 $\\frac{\\text{c}(\\text{Cl}^-)}{\\text{c}(\\text{Ag}^+)}=\\frac{\\text{c}(\\text{Cl}^-)\\text{c}(\\text{CrO}_4^{2-})}{\\text{c}(\\text{Ag}^+)\\text{c}(\\text{CrO}_4^{2-})}=\\frac{\\text{K}_{\\text{sp}}(\\text{AgCl})}{\\text{K}_{\\text{sp}}\\left(\\text{Ag}_2\\text{CrO}_4\\right)}=10^{-2.21}$，B正确； C．V≤2.0mL时，溶液中氯离子浓度小于银离子浓度，根据电荷守恒，则 $\\frac{\\text{c}(\\text{Cl}^-)}{\\text{c}(\\text{Ag}^+)}=\\frac12$，C正确； D．根据题意，交点a处溶液中氯离子浓度和银离子浓度相同，则 $\\text{y}_1=-\\lg \\frac{\\text{c}(\\text{Ag}^+)}{\\text{c}(\\text{Cl}^-)}=-\\lg 1=0$，D错误； 故选ABC。\n",
        "\n",
        "--------\n",
        "## 题目编号：8（含图片）\n",
        "## 题目标答\n",
        "(1)增大固体与酸反应的接触面积，提高钴元素的浸出效率(2)$\\mathrm{CoO}+\\mathrm{H}_{2}\\mathrm{SO}_{4}=\\text{CoSO}_{4}+\\mathrm{H}_{2}\\mathrm{O}$(3) $1.6\\times 10^{-4}$ 不能(4)$4.0\\mathrm{mol}$(5)$\\mathrm{Fe}(\\mathrm{OH})_{3}$(6)$2\\mathrm{Co}^{2+}+5\\mathrm{ClO}^{-}+5\\mathrm{H}_{2}\\mathrm{O}=2\\mathrm{Co}(\\mathrm{OH})_{3}\\downarrow +\\mathrm{Cl}^{-}+4\\text{HClO}$(7)向滤液中滴加$\\text{NaOH}$溶液，边加边搅拌，控制溶液的pH接近12但不大于12，静置后过滤、洗涤、干燥\n",
        "## InternLM-WQX 模型输出\n",
        "(1)增大反应物的接触面积，加快反应速率，提高浸出率(2)$\\mathrm{CoO}+2\\mathrm{H}^{+}=\\mathrm{Co}^{2+}+\\mathrm{H}_{2}\\mathrm{O}$(3) $4.0\\times 10^{-18}$ 能(4)$1.0\\text{~mol}$(5)Fe(OH)<sub>3</sub>、Co(OH)<sub>2</sub>(6)$\\mathrm{Co}^{2+}+3\\mathrm{ClO}^{-}+2\\mathrm{H}_{2}\\mathrm{O}=\\mathrm{CoO}_{2}^{-}+3\\mathrm{Cl}^{-}+4\\mathrm{H}^{+}$(7)向滤液中通入足量$\\mathrm{CO}_{2}$，调节溶液$\\mathrm{pH}=4\\sim 5$，过滤、洗涤，即得到氢氧化锌\n",
        "\n",
        "--------\n",
        "## 题目编号：9（含图片）\n",
        "## 题目标答\n",
        "(1)烧杯、漏斗、玻璃棒，可任选两种作答(2)50%(3) 液体分层，上层为无色，下层为紫红色 还原性、氧化性(4) 避免溶质损失 盖好瓶塞，反复上下颠倒、摇匀(5)BD(6)A\n",
        "## InternLM-WQX 模型输出\n",
        "(1)烧杯、漏斗、玻璃棒(2)50%(3) 溶液分层，下层为紫红色 过氧化脲具有还原性和氧化性(4) 使溶解更充分 摇匀(5)BCD(6)AC\n",
        "\n",
        "--------\n",
        "## 题目编号：10（含图片）\n",
        "## 题目标答\n",
        "(1)-67(2) a 80% 7.8 10.92(3) $\\frac{3}{2}$(或3：2) 5s以后有I<sub word-font=\"Times New Roman\">2</sub>催化的CH<sub word-font=\"Times New Roman\">2</sub>Br<sub word-font=\"Times New Roman\">2</sub>的含量逐渐降低，有I<sub word-font=\"Times New Roman\">2</sub>催化的CH<sub word-font=\"Times New Roman\">3</sub>Br的含量陡然上升 I<sub word-font=\"Times New Roman\">2</sub>的投入消耗了部分CH<sub word-font=\"Times New Roman\">2</sub>Br<sub word-font=\"Times New Roman\">2</sub>，使得消耗的CH<sub word-font=\"Times New Roman\">2</sub>Br<sub word-font=\"Times New Roman\">2</sub>发生反应生成了CH<sub word-font=\"Times New Roman\">3</sub>Br\n",
        "## InternLM-WQX 模型输出\n",
        "(1)-89(2) a 50% 4(3) 2 有$\\mathrm{I}_{2}$时，$\\mathrm{CH}_{2}\\mathrm{Br}_{2}$的生成速率慢，$\\mathrm{CH}_{3}\\mathrm{Br}$的生成速率快 反应②慢，$\\mathrm{CH}_{2}\\mathrm{Br}_{2}$浓度低，反应③慢，$\\mathrm{HBr}$浓度低，$\\mathrm{CH}_{3}\\mathrm{Br}$生成快\n",
        "\n",
        "--------\n",
        "## 题目编号：11（含图片）\n",
        "## 题目标答\n",
        "(1) 2 +4(2)bd(3) C $\\mathrm{sp}^{3}$(4)SnF<sub>4</sub>属于离子晶体，SnCl<sub>4</sub>、SnBr<sub>4</sub>、SnI<sub>4</sub>属于分子晶体，离子晶体的熔点比分子晶体的高，分子晶体的相对分子量越大，分子间作用力越强，熔点越高(5) 6 $\\frac{4\\times (207+32)}{\\mathrm{N}_{\\mathrm{A}}\\times (594\\times {10^{-10}})^{3}}\\mathrm{g}\\cdot \\mathrm{cm}^{-3}\\mathrm{或}\\frac{956}{\\mathrm{N}_{\\mathrm{A}}\\times (594\\times {10^{-10}})^{3}}\\mathrm{g}\\cdot \\mathrm{cm}^{-3}$\n",
        "## InternLM-WQX 模型输出\n",
        "(1) 2 ＋4(2)bd(3) O $\\mathrm{sp}^{3}$(4)四者均为分子晶体，相对分子质量越大，分子间作用力越大，熔点越高(5) 6 $\\frac{207\\mathrm{g}/\\mathrm{mol}}{6.02\\times 10^{23}\\mathrm{mol}^{-1}\\times \\left(4\\times 225+343\\right)\\times 10^{-30}\\mathrm{cm}^{3}}$\n",
        "\n",
        "--------\n",
        "## 题目编号：12（含图片）\n",
        "## 题目标答\n",
        "(1)硝基(2)<img alt=\"\" height=\"87px\" src=\"https://tiku-pro-cdn.speiyou.com/imgFile/f674538cae0bb6faee052409af1d8a3b.png\" style=\"vertical-align:middle;\" width=\"121px\"/>(3)取代反应(4)<img alt=\"\" height=\"87px\" src=\"https://tiku-pro-cdn.speiyou.com/imgFile/1f2ba21f970b5a8159f2881794d26258.png\" style=\"vertical-align:middle;\" width=\"137px\"/>+P(OC<sub>2</sub>H<sub>5</sub>)<sub>3</sub>→<img alt=\"\" height=\"87px\" src=\"https://tiku-pro-cdn.speiyou.com/imgFile/e2ab9daf8bae8cb3b4e88b276439db91.png\" style=\"vertical-align:middle;\" width=\"145px\"/>+C<sub>2</sub>H<sub>5</sub>Br(5)4-甲氧基苯甲醛(或对甲氧基苯甲醛)(6)鉴别试剂为：FeCl<sub>3</sub>溶液，实验现象为：分别取少量有机物H和有机物I的固体用于水配置成溶液，向溶液中滴加FeCl<sub>3</sub>溶液，溶液呈紫色的即为有机物I(7)9\n",
        "## InternLM-WQX 模型输出\n",
        "(1)碳碳双键(2)CH<sub>3</sub>CH<sub>2</sub>OH(3)取代反应(4)CH<sub>3</sub>COOH+H<sub>2</sub>O$\\overset{\\text{浓硫酸}}{\\underset{\\text{ }\\!\\!\\Delta\\!\\!\\text{ }}\\rightleftharpoons }$CH<sub>3</sub>COOH+H<sub>2</sub>O(5)葡萄糖(6)用溴水鉴别，H中滴入溴水，溶液褪色，I中滴入溴水，溶液不褪色(7)4\n"
      ]
    },
    {
      "cell_type": "code",
      "execution_count": 1,
      "metadata": {
        "execution": {
          "iopub.execute_input": "2024-06-18T03:11:03.242051Z",
          "iopub.status.busy": "2024-06-18T03:11:03.241810Z",
          "iopub.status.idle": "2024-06-18T03:18:48.352472Z",
          "shell.execute_reply": "2024-06-18T03:18:48.351780Z"
        }
      },
      "outputs": [
        {
          "data": {
            "application/vnd.jupyter.widget-view+json": {
              "model_id": "efc95aed134d4cf69c2d0258b22e79dc",
              "version_major": 2,
              "version_minor": 0
            },
            "text/plain": [
              "Loading checkpoint shards:   0%|          | 0/4 [00:00<?, ?it/s]"
            ]
          },
          "metadata": {},
          "output_type": "display_data"
        }
      ],
      "source": [
        "import re\n",
        "import json\n",
        "\n",
        "import torch\n",
        "from transformers import AutoTokenizer, AutoModelForCausalLM\n",
        "\n",
        "device = torch.device(\"cuda\")\n",
        "\n",
        "model_path = \"internlm/internlm2-wqx-20b\"\n",
        "gen_kwargs = {\"max_length\": 2048, \"do_sample\": False}\n",
        "\n",
        "tokenizer = AutoTokenizer.from_pretrained(\n",
        "    model_path, trust_remote_code=True,\n",
        ")\n",
        "model = AutoModelForCausalLM.from_pretrained(\n",
        "    model_path,\n",
        "    trust_remote_code=True,\n",
        "    torch_dtype=torch.float16,\n",
        ").eval().to(device)\n"
      ]
    },
    {
      "cell_type": "code",
      "execution_count": 2,
      "metadata": {
        "execution": {
          "iopub.execute_input": "2024-06-18T03:18:48.355507Z",
          "iopub.status.busy": "2024-06-18T03:18:48.354860Z",
          "iopub.status.idle": "2024-06-18T03:20:07.083666Z",
          "shell.execute_reply": "2024-06-18T03:20:07.083027Z"
        }
      },
      "outputs": [
        {
          "name": "stdout",
          "output_type": "stream",
          "text": [
            "试卷名：全国甲卷 高考真题 【化学】学科\n"
          ]
        },
        {
          "name": "stdout",
          "output_type": "stream",
          "text": [
            "***********************************\n",
            "题目编号：1\n",
            "题目标答：C\n",
            "InternLM-WQX 模型输出：【详解】A．木材与煤均含有碳元素，故A正确；B．石油裂化可生产汽油，故B正确；C．燃料电池将化学能转化为电能，故C错误；D．太阳能光解水可制氢，故D正确；故选C。\n"
          ]
        },
        {
          "name": "stdout",
          "output_type": "stream",
          "text": [
            "***************\n",
            "题目编号：2\n",
            "题目标答：D\n",
            "InternLM-WQX 模型输出：A．用氢氟酸刻蚀玻璃，氢氟酸为弱酸，不能拆，故A错误； B．用三氯化铁溶液刻制覆铜电路板，离子方程式为 $2\\text{Fe}^{3+}+\\text{Cu}=\\text{Cu}^{2+}+2\\text{Fe}^{2+}$，故B错误； C．用硫代硫酸钠溶液脱氯，离子方程式为 $\\text{S}_2{\\text{O}}_3^{2-}+4\\text{Cl}_2+5\\text{H}_2\\text{O}=2\\text{SO}_4^{2-}+8\\text{Cl}^-+10\\text{H}^+$，故C错误； D．用碳酸钠溶液浸泡锅炉水垢中的硫酸钙，离子方程式为 $\\text{CaSO}_4{+\\text{CO}}_3^{2-}=\\text{CaCO}_3{+\\text{SO}}_4^{2-}$，故D正确； 故选D。\n"
          ]
        },
        {
          "name": "stdout",
          "output_type": "stream",
          "text": [
            "***************\n",
            "题目编号：3（含图片）\n",
            "题目标答：C\n",
            "InternLM-WQX 模型输出：A．PLA在碱性条件下可发生水解反应，生成乳酸盐和乳酸，A无误；B．MP的化学名称是丙酸甲酯，B无误；C．MP的同分异构体中含羧基的有2种，C有误；D．MMA中含有碳碳双键，可加聚生成高分子，D无误；故正确答案为C。\n"
          ]
        },
        {
          "name": "stdout",
          "output_type": "stream",
          "text": [
            "***************\n",
            "题目编号：4（含图片）\n",
            "题目标答：B\n",
            "InternLM-WQX 模型输出：A．由分析可知，a为Na<sub>2</sub>CO<sub>3</sub>，碳酸钠溶液呈碱性，A正确； B．由分析可知，f为氢氧化铝，氢氧化铝能溶于强碱，所以氢氧化铝可溶于过量的Na<sub>2</sub>CO<sub>3</sub>中，B正确； C．由分析可知，c为AlCl<sub>3</sub>，c中通入过量的二氧化碳生成氢氧化铝沉淀，不能得到无色溶液，C错误； D．由分析可知，b为Ba(OH)<sub>2</sub>，d为NH<sub>4</sub>NO<sub>3</sub>，b和d反应生成的沉淀为氢氧化钡，氢氧化钡溶于稀硝酸，D错误； 故选AB。\n"
          ]
        },
        {
          "name": "stdout",
          "output_type": "stream",
          "text": [
            "***************\n",
            "题目编号：5\n",
            "题目标答：A\n",
            "InternLM-WQX 模型输出：根据分析可知，W为H，X为O，Y为F，Z为S元素。 A．O属于第VIA族元素，S属于第VIA族元素，二者属于同一主族，故A正确； B．同一周期从左向右非金属性逐渐增强，同一主族从上到下非金属性逐渐减弱，则非金属性：$\\text{Y}> \\text{X}> \\text{Z}$，故B错误； C．非金属性：$\\text{Y}> \\text{Z}$，则气态氢化物的稳定性：$\\text{Y}> \\text{Z}$，故C错误； D．同一周期从左向右原子半径逐渐减小，同一主族从上到下原子半径逐渐增大，则原子半径：$\\text{Z}> \\text{X}> \\text{Y}$，故D错误； 故选：A。\n"
          ]
        },
        {
          "name": "stdout",
          "output_type": "stream",
          "text": [
            "***************\n",
            "题目编号：6（含图片）\n",
            "题目标答：C\n",
            "InternLM-WQX 模型输出：A．充电时阳离子向阴极移动，故A错误； B．充电时，阳极发生氧化反应，阴极发生还原反应，故B错误； C．放电时，正极发生还原反应，电极反应式为 $\\text{MnO}_2+\\text{H}_2\\text{O}+\\text{e}^-=\\text{MnOOH}+\\text{OH}^-$，故C正确； D．放电时，$\\text{Zn}$ 电极质量减少 $0.65\\text{g}$，转移电子数为 $\\frac{0.65\\text{g}}{65\\text{g}/\\text{mol}}\\times 2=0.02\\text{mol}$，$\\text{MnO}_2$ 电极生成了 $0.02\\text{mol~MnOOH}$，故D正确； 故选CD。\n"
          ]
        },
        {
          "name": "stdout",
          "output_type": "stream",
          "text": [
            "***************\n",
            "题目编号：7（含图片）\n",
            "题目标答：D\n",
            "InternLM-WQX 模型输出：A．交点a处溶液中氯离子浓度和银离子浓度相同，根据电荷守恒，钠离子浓度等于氯离子浓度的2倍，A正确； B．根据题意，交点a处溶液中氯离子浓度和银离子浓度相同，则 $\\frac{\\text{c}(\\text{Cl}^-)}{\\text{c}(\\text{Ag}^+)}=\\frac{\\text{c}(\\text{Cl}^-)\\text{c}(\\text{CrO}_4^{2-})}{\\text{c}(\\text{Ag}^+)\\text{c}(\\text{CrO}_4^{2-})}=\\frac{\\text{K}_{\\text{sp}}(\\text{AgCl})}{\\text{K}_{\\text{sp}}\\left(\\text{Ag}_2\\text{CrO}_4\\right)}=10^{-2.21}$，B正确； C．V≤2.0mL时，溶液中氯离子浓度小于银离子浓度，根据电荷守恒，则 $\\frac{\\text{c}(\\text{Cl}^-)}{\\text{c}(\\text{Ag}^+)}=\\frac12$，C正确； D．根据题意，交点a处溶液中氯离子浓度和银离子浓度相同，则 $\\text{y}_1=-\\lg \\frac{\\text{c}(\\text{Ag}^+)}{\\text{c}(\\text{Cl}^-)}=-\\lg 1=0$，D错误； 故选ABC。\n"
          ]
        },
        {
          "name": "stdout",
          "output_type": "stream",
          "text": [
            "***************\n",
            "题目编号：8（含图片）\n",
            "题目标答：(1)增大固体与酸反应的接触面积，提高钴元素的浸出效率(2)$\\mathrm{CoO}+\\mathrm{H}_{2}\\mathrm{SO}_{4}=\\text{CoSO}_{4}+\\mathrm{H}_{2}\\mathrm{O}$(3) $1.6\\times 10^{-4}$ 不能(4)$4.0\\mathrm{mol}$(5)$\\mathrm{Fe}(\\mathrm{OH})_{3}$(6)$2\\mathrm{Co}^{2+}+5\\mathrm{ClO}^{-}+5\\mathrm{H}_{2}\\mathrm{O}=2\\mathrm{Co}(\\mathrm{OH})_{3}\\downarrow +\\mathrm{Cl}^{-}+4\\text{HClO}$(7)向滤液中滴加$\\text{NaOH}$溶液，边加边搅拌，控制溶液的pH接近12但不大于12，静置后过滤、洗涤、干燥\n",
            "InternLM-WQX 模型输出：(1)增大反应物的接触面积，加快反应速率，提高浸出率(2)$\\mathrm{CoO}+2\\mathrm{H}^{+}=\\mathrm{Co}^{2+}+\\mathrm{H}_{2}\\mathrm{O}$(3) $4.0\\times 10^{-18}$ 能(4)$1.0\\text{~mol}$(5)Fe(OH)<sub>3</sub>、Co(OH)<sub>2</sub>(6)$\\mathrm{Co}^{2+}+3\\mathrm{ClO}^{-}+2\\mathrm{H}_{2}\\mathrm{O}=\\mathrm{CoO}_{2}^{-}+3\\mathrm{Cl}^{-}+4\\mathrm{H}^{+}$(7)向滤液中通入足量$\\mathrm{CO}_{2}$，调节溶液$\\mathrm{pH}=4\\sim 5$，过滤、洗涤，即得到氢氧化锌\n"
          ]
        },
        {
          "name": "stdout",
          "output_type": "stream",
          "text": [
            "***************\n",
            "题目编号：9（含图片）\n",
            "题目标答：(1)烧杯、漏斗、玻璃棒，可任选两种作答(2)50%(3) 液体分层，上层为无色，下层为紫红色 还原性、氧化性(4) 避免溶质损失 盖好瓶塞，反复上下颠倒、摇匀(5)BD(6)A\n",
            "InternLM-WQX 模型输出：(1)烧杯、漏斗、玻璃棒(2)50%(3) 溶液分层，下层为紫红色 过氧化脲具有还原性和氧化性(4) 使溶解更充分 摇匀(5)BCD(6)AC\n"
          ]
        },
        {
          "name": "stdout",
          "output_type": "stream",
          "text": [
            "***************\n",
            "题目编号：10（含图片）\n",
            "题目标答：(1)-67(2) a 80% 7.8 10.92(3) $\\frac{3}{2}$(或3：2) 5s以后有I<sub word-font=\"Times New Roman\">2</sub>催化的CH<sub word-font=\"Times New Roman\">2</sub>Br<sub word-font=\"Times New Roman\">2</sub>的含量逐渐降低，有I<sub word-font=\"Times New Roman\">2</sub>催化的CH<sub word-font=\"Times New Roman\">3</sub>Br的含量陡然上升 I<sub word-font=\"Times New Roman\">2</sub>的投入消耗了部分CH<sub word-font=\"Times New Roman\">2</sub>Br<sub word-font=\"Times New Roman\">2</sub>，使得消耗的CH<sub word-font=\"Times New Roman\">2</sub>Br<sub word-font=\"Times New Roman\">2</sub>发生反应生成了CH<sub word-font=\"Times New Roman\">3</sub>Br\n",
            "InternLM-WQX 模型输出：(1)-89(2) a 50% 4(3) 2 有$\\mathrm{I}_{2}$时，$\\mathrm{CH}_{2}\\mathrm{Br}_{2}$的生成速率慢，$\\mathrm{CH}_{3}\\mathrm{Br}$的生成速率快 反应②慢，$\\mathrm{CH}_{2}\\mathrm{Br}_{2}$浓度低，反应③慢，$\\mathrm{HBr}$浓度低，$\\mathrm{CH}_{3}\\mathrm{Br}$生成快\n"
          ]
        },
        {
          "name": "stdout",
          "output_type": "stream",
          "text": [
            "***************\n",
            "题目编号：11（含图片）\n",
            "题目标答：(1) 2 +4(2)bd(3) C $\\mathrm{sp}^{3}$(4)SnF<sub>4</sub>属于离子晶体，SnCl<sub>4</sub>、SnBr<sub>4</sub>、SnI<sub>4</sub>属于分子晶体，离子晶体的熔点比分子晶体的高，分子晶体的相对分子量越大，分子间作用力越强，熔点越高(5) 6 $\\frac{4\\times (207+32)}{\\mathrm{N}_{\\mathrm{A}}\\times (594\\times {10^{-10}})^{3}}\\mathrm{g}\\cdot \\mathrm{cm}^{-3}\\mathrm{或}\\frac{956}{\\mathrm{N}_{\\mathrm{A}}\\times (594\\times {10^{-10}})^{3}}\\mathrm{g}\\cdot \\mathrm{cm}^{-3}$\n",
            "InternLM-WQX 模型输出：(1) 2 ＋4(2)bd(3) O $\\mathrm{sp}^{3}$(4)四者均为分子晶体，相对分子质量越大，分子间作用力越大，熔点越高(5) 6 $\\frac{207\\mathrm{g}/\\mathrm{mol}}{6.02\\times 10^{23}\\mathrm{mol}^{-1}\\times \\left(4\\times 225+343\\right)\\times 10^{-30}\\mathrm{cm}^{3}}$\n"
          ]
        },
        {
          "name": "stdout",
          "output_type": "stream",
          "text": [
            "***************\n",
            "题目编号：12（含图片）\n",
            "题目标答：(1)硝基(2)<img alt=\"\" height=\"87px\" src=\"https://tiku-pro-cdn.speiyou.com/imgFile/f674538cae0bb6faee052409af1d8a3b.png\" style=\"vertical-align:middle;\" width=\"121px\"/>(3)取代反应(4)<img alt=\"\" height=\"87px\" src=\"https://tiku-pro-cdn.speiyou.com/imgFile/1f2ba21f970b5a8159f2881794d26258.png\" style=\"vertical-align:middle;\" width=\"137px\"/>+P(OC<sub>2</sub>H<sub>5</sub>)<sub>3</sub>→<img alt=\"\" height=\"87px\" src=\"https://tiku-pro-cdn.speiyou.com/imgFile/e2ab9daf8bae8cb3b4e88b276439db91.png\" style=\"vertical-align:middle;\" width=\"145px\"/>+C<sub>2</sub>H<sub>5</sub>Br(5)4-甲氧基苯甲醛(或对甲氧基苯甲醛)(6)鉴别试剂为：FeCl<sub>3</sub>溶液，实验现象为：分别取少量有机物H和有机物I的固体用于水配置成溶液，向溶液中滴加FeCl<sub>3</sub>溶液，溶液呈紫色的即为有机物I(7)9\n",
            "InternLM-WQX 模型输出：(1)碳碳双键(2)CH<sub>3</sub>CH<sub>2</sub>OH(3)取代反应(4)CH<sub>3</sub>COOH+H<sub>2</sub>O$\\overset{\\text{浓硫酸}}{\\underset{\\text{ }\\!\\!\\Delta\\!\\!\\text{ }}\\rightleftharpoons }$CH<sub>3</sub>COOH+H<sub>2</sub>O(5)葡萄糖(6)用溴水鉴别，H中滴入溴水，溶液褪色，I中滴入溴水，溶液不褪色(7)4\n"
          ]
        }
      ],
      "source": [
        "subject, paper_type = \"化学\", \"全国甲卷\"\n",
        "file_name = f\"../data/{paper_type}/{subject}.jsonl\"\n",
        "\n",
        "questions = []\n",
        "\n",
        "print(f\"试卷名：{paper_type} 高考真题 【{subject}】学科\")\n",
        "\n",
        "with open(file_name, \"r\") as f:\n",
        "    for i, line in enumerate(f):\n",
        "        data = json.loads(line)\n",
        "        has_img, question = False, data['prompt']\n",
        "\n",
        "        if '<img' in question:\n",
        "            has_img = True\n",
        "            question = re.sub(r'<img[^>]*?/>', \"\", question)\n",
        "\n",
        "        inputs = tokenizer(question, return_tensors=\"pt\")\n",
        "        input_ids = inputs[\"input_ids\"].to(device)\n",
        "\n",
        "        outputs = model.generate(input_ids, **gen_kwargs)\n",
        "        outputs = outputs[0].cpu().tolist()[len(inputs[\"input_ids\"][0]) :]\n",
        "\n",
        "        response = tokenizer.decode(outputs, skip_special_tokens=True)\n",
        "        response = response.split(\"<|im_end|>\")[0]\n",
        "\n",
        "        if i == 0:\n",
        "            print(\"*\" * 35)\n",
        "        else:\n",
        "            print(\"*\" * 15)\n",
        "\n",
        "        print(\"题目编号：\" + str(i+1) + (\"（含图片）\" if has_img else \"\"))\n",
        "        print(\"题目标答：\" + data[\"answer\"])\n",
        "        print(\"InternLM-WQX 模型输出：\" + response)\n",
        "            \n",
        "        questions.append({\n",
        "            \"id\": str(i+1),\n",
        "            \"question\": question,\n",
        "            \"answer\": data[\"answer\"],\n",
        "            \"output\": response,\n",
        "            \"has_img\": has_img\n",
        "        })"
      ]
    }
  ],
  "metadata": {
    "kernelspec": {
      "display_name": "base",
      "language": "python",
      "name": "python3"
    },
    "language_info": {
      "codemirror_mode": {
        "name": "ipython",
        "version": 3
      },
      "file_extension": ".py",
      "mimetype": "text/x-python",
      "name": "python",
      "nbconvert_exporter": "python",
      "pygments_lexer": "ipython3",
      "version": "3.10.12"
    },
    "widgets": {
      "application/vnd.jupyter.widget-state+json": {
        "state": {
          "111dcebc114e4587ab77f05a407365ec": {
            "model_module": "@jupyter-widgets/controls",
            "model_module_version": "2.0.0",
            "model_name": "ProgressStyleModel",
            "state": {
              "_model_module": "@jupyter-widgets/controls",
              "_model_module_version": "2.0.0",
              "_model_name": "ProgressStyleModel",
              "_view_count": null,
              "_view_module": "@jupyter-widgets/base",
              "_view_module_version": "2.0.0",
              "_view_name": "StyleView",
              "bar_color": null,
              "description_width": ""
            }
          },
          "2d265e3cdff54482b5f795c3c02d8e62": {
            "model_module": "@jupyter-widgets/controls",
            "model_module_version": "2.0.0",
            "model_name": "FloatProgressModel",
            "state": {
              "_dom_classes": [],
              "_model_module": "@jupyter-widgets/controls",
              "_model_module_version": "2.0.0",
              "_model_name": "FloatProgressModel",
              "_view_count": null,
              "_view_module": "@jupyter-widgets/controls",
              "_view_module_version": "2.0.0",
              "_view_name": "ProgressView",
              "bar_style": "success",
              "description": "",
              "description_allow_html": false,
              "layout": "IPY_MODEL_bde0757a38de4435b3f529438de7d6df",
              "max": 4.0,
              "min": 0.0,
              "orientation": "horizontal",
              "style": "IPY_MODEL_111dcebc114e4587ab77f05a407365ec",
              "tabbable": null,
              "tooltip": null,
              "value": 4.0
            }
          },
          "5a34820c5e8f4e2f8a924e379bba36ee": {
            "model_module": "@jupyter-widgets/base",
            "model_module_version": "2.0.0",
            "model_name": "LayoutModel",
            "state": {
              "_model_module": "@jupyter-widgets/base",
              "_model_module_version": "2.0.0",
              "_model_name": "LayoutModel",
              "_view_count": null,
              "_view_module": "@jupyter-widgets/base",
              "_view_module_version": "2.0.0",
              "_view_name": "LayoutView",
              "align_content": null,
              "align_items": null,
              "align_self": null,
              "border_bottom": null,
              "border_left": null,
              "border_right": null,
              "border_top": null,
              "bottom": null,
              "display": null,
              "flex": null,
              "flex_flow": null,
              "grid_area": null,
              "grid_auto_columns": null,
              "grid_auto_flow": null,
              "grid_auto_rows": null,
              "grid_column": null,
              "grid_gap": null,
              "grid_row": null,
              "grid_template_areas": null,
              "grid_template_columns": null,
              "grid_template_rows": null,
              "height": null,
              "justify_content": null,
              "justify_items": null,
              "left": null,
              "margin": null,
              "max_height": null,
              "max_width": null,
              "min_height": null,
              "min_width": null,
              "object_fit": null,
              "object_position": null,
              "order": null,
              "overflow": null,
              "padding": null,
              "right": null,
              "top": null,
              "visibility": null,
              "width": null
            }
          },
          "7ea8f76636f44b01bdfdce6241188976": {
            "model_module": "@jupyter-widgets/controls",
            "model_module_version": "2.0.0",
            "model_name": "HTMLStyleModel",
            "state": {
              "_model_module": "@jupyter-widgets/controls",
              "_model_module_version": "2.0.0",
              "_model_name": "HTMLStyleModel",
              "_view_count": null,
              "_view_module": "@jupyter-widgets/base",
              "_view_module_version": "2.0.0",
              "_view_name": "StyleView",
              "background": null,
              "description_width": "",
              "font_size": null,
              "text_color": null
            }
          },
          "838a5cb77d2342749ce93ff89db00896": {
            "model_module": "@jupyter-widgets/controls",
            "model_module_version": "2.0.0",
            "model_name": "HTMLStyleModel",
            "state": {
              "_model_module": "@jupyter-widgets/controls",
              "_model_module_version": "2.0.0",
              "_model_name": "HTMLStyleModel",
              "_view_count": null,
              "_view_module": "@jupyter-widgets/base",
              "_view_module_version": "2.0.0",
              "_view_name": "StyleView",
              "background": null,
              "description_width": "",
              "font_size": null,
              "text_color": null
            }
          },
          "9ac2edd7d97047d88b3cb6c195adca52": {
            "model_module": "@jupyter-widgets/controls",
            "model_module_version": "2.0.0",
            "model_name": "HTMLModel",
            "state": {
              "_dom_classes": [],
              "_model_module": "@jupyter-widgets/controls",
              "_model_module_version": "2.0.0",
              "_model_name": "HTMLModel",
              "_view_count": null,
              "_view_module": "@jupyter-widgets/controls",
              "_view_module_version": "2.0.0",
              "_view_name": "HTMLView",
              "description": "",
              "description_allow_html": false,
              "layout": "IPY_MODEL_5a34820c5e8f4e2f8a924e379bba36ee",
              "placeholder": "​",
              "style": "IPY_MODEL_838a5cb77d2342749ce93ff89db00896",
              "tabbable": null,
              "tooltip": null,
              "value": "Loading checkpoint shards: 100%"
            }
          },
          "9ea242bc9fec4ad691dbc572c136b40e": {
            "model_module": "@jupyter-widgets/controls",
            "model_module_version": "2.0.0",
            "model_name": "HTMLModel",
            "state": {
              "_dom_classes": [],
              "_model_module": "@jupyter-widgets/controls",
              "_model_module_version": "2.0.0",
              "_model_name": "HTMLModel",
              "_view_count": null,
              "_view_module": "@jupyter-widgets/controls",
              "_view_module_version": "2.0.0",
              "_view_name": "HTMLView",
              "description": "",
              "description_allow_html": false,
              "layout": "IPY_MODEL_a432727487a1465f924a0b79b56fcd6c",
              "placeholder": "​",
              "style": "IPY_MODEL_7ea8f76636f44b01bdfdce6241188976",
              "tabbable": null,
              "tooltip": null,
              "value": " 4/4 [00:29&lt;00:00,  7.41s/it]"
            }
          },
          "a432727487a1465f924a0b79b56fcd6c": {
            "model_module": "@jupyter-widgets/base",
            "model_module_version": "2.0.0",
            "model_name": "LayoutModel",
            "state": {
              "_model_module": "@jupyter-widgets/base",
              "_model_module_version": "2.0.0",
              "_model_name": "LayoutModel",
              "_view_count": null,
              "_view_module": "@jupyter-widgets/base",
              "_view_module_version": "2.0.0",
              "_view_name": "LayoutView",
              "align_content": null,
              "align_items": null,
              "align_self": null,
              "border_bottom": null,
              "border_left": null,
              "border_right": null,
              "border_top": null,
              "bottom": null,
              "display": null,
              "flex": null,
              "flex_flow": null,
              "grid_area": null,
              "grid_auto_columns": null,
              "grid_auto_flow": null,
              "grid_auto_rows": null,
              "grid_column": null,
              "grid_gap": null,
              "grid_row": null,
              "grid_template_areas": null,
              "grid_template_columns": null,
              "grid_template_rows": null,
              "height": null,
              "justify_content": null,
              "justify_items": null,
              "left": null,
              "margin": null,
              "max_height": null,
              "max_width": null,
              "min_height": null,
              "min_width": null,
              "object_fit": null,
              "object_position": null,
              "order": null,
              "overflow": null,
              "padding": null,
              "right": null,
              "top": null,
              "visibility": null,
              "width": null
            }
          },
          "a56c8655d3634456a94d5e514000dd6d": {
            "model_module": "@jupyter-widgets/base",
            "model_module_version": "2.0.0",
            "model_name": "LayoutModel",
            "state": {
              "_model_module": "@jupyter-widgets/base",
              "_model_module_version": "2.0.0",
              "_model_name": "LayoutModel",
              "_view_count": null,
              "_view_module": "@jupyter-widgets/base",
              "_view_module_version": "2.0.0",
              "_view_name": "LayoutView",
              "align_content": null,
              "align_items": null,
              "align_self": null,
              "border_bottom": null,
              "border_left": null,
              "border_right": null,
              "border_top": null,
              "bottom": null,
              "display": null,
              "flex": null,
              "flex_flow": null,
              "grid_area": null,
              "grid_auto_columns": null,
              "grid_auto_flow": null,
              "grid_auto_rows": null,
              "grid_column": null,
              "grid_gap": null,
              "grid_row": null,
              "grid_template_areas": null,
              "grid_template_columns": null,
              "grid_template_rows": null,
              "height": null,
              "justify_content": null,
              "justify_items": null,
              "left": null,
              "margin": null,
              "max_height": null,
              "max_width": null,
              "min_height": null,
              "min_width": null,
              "object_fit": null,
              "object_position": null,
              "order": null,
              "overflow": null,
              "padding": null,
              "right": null,
              "top": null,
              "visibility": null,
              "width": null
            }
          },
          "bde0757a38de4435b3f529438de7d6df": {
            "model_module": "@jupyter-widgets/base",
            "model_module_version": "2.0.0",
            "model_name": "LayoutModel",
            "state": {
              "_model_module": "@jupyter-widgets/base",
              "_model_module_version": "2.0.0",
              "_model_name": "LayoutModel",
              "_view_count": null,
              "_view_module": "@jupyter-widgets/base",
              "_view_module_version": "2.0.0",
              "_view_name": "LayoutView",
              "align_content": null,
              "align_items": null,
              "align_self": null,
              "border_bottom": null,
              "border_left": null,
              "border_right": null,
              "border_top": null,
              "bottom": null,
              "display": null,
              "flex": null,
              "flex_flow": null,
              "grid_area": null,
              "grid_auto_columns": null,
              "grid_auto_flow": null,
              "grid_auto_rows": null,
              "grid_column": null,
              "grid_gap": null,
              "grid_row": null,
              "grid_template_areas": null,
              "grid_template_columns": null,
              "grid_template_rows": null,
              "height": null,
              "justify_content": null,
              "justify_items": null,
              "left": null,
              "margin": null,
              "max_height": null,
              "max_width": null,
              "min_height": null,
              "min_width": null,
              "object_fit": null,
              "object_position": null,
              "order": null,
              "overflow": null,
              "padding": null,
              "right": null,
              "top": null,
              "visibility": null,
              "width": null
            }
          },
          "efc95aed134d4cf69c2d0258b22e79dc": {
            "model_module": "@jupyter-widgets/controls",
            "model_module_version": "2.0.0",
            "model_name": "HBoxModel",
            "state": {
              "_dom_classes": [],
              "_model_module": "@jupyter-widgets/controls",
              "_model_module_version": "2.0.0",
              "_model_name": "HBoxModel",
              "_view_count": null,
              "_view_module": "@jupyter-widgets/controls",
              "_view_module_version": "2.0.0",
              "_view_name": "HBoxView",
              "box_style": "",
              "children": [
                "IPY_MODEL_9ac2edd7d97047d88b3cb6c195adca52",
                "IPY_MODEL_2d265e3cdff54482b5f795c3c02d8e62",
                "IPY_MODEL_9ea242bc9fec4ad691dbc572c136b40e"
              ],
              "layout": "IPY_MODEL_a56c8655d3634456a94d5e514000dd6d",
              "tabbable": null,
              "tooltip": null
            }
          }
        },
        "version_major": 2,
        "version_minor": 0
      }
    }
  },
  "nbformat": 4,
  "nbformat_minor": 2
}