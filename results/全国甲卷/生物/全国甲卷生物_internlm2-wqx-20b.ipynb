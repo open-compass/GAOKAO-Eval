{
  "cells": [
    {
      "cell_type": "markdown",
      "metadata": {},
      "source": [
        "# 试卷名：全国甲卷 高考真题 【生物】学科\n",
        "\n",
        "## 题目编号：1\n",
        "## 题目标答\n",
        "C\n",
        "## InternLM-WQX 模型输出\n",
        "A、病毒没有细胞结构，A说法错误；B、原核生物没有线粒体，但部分原核生物含有与有氧呼吸有关的酶，也能进行有氧呼吸，如醋酸菌，B说法错误；C、哺乳动物同一个体中细胞的染色体数目有可能不同，如处于有丝分裂后期的细胞和其他时期的细胞中染色体数目不同，C说法正确；D、小麦根细胞中没有叶绿体，吸收离子消耗的ATP主要由线粒体产生，D说法错误。故答案为C。\n",
        "\n",
        "--------\n",
        "## 题目编号：2\n",
        "## 题目标答\n",
        "B\n",
        "## InternLM-WQX 模型输出\n",
        "A、赤霉素可以诱导某些酶的合成，从而促进种子萌发，A说法正确；B、单侧光下生长素的横向运输属于主动运输，需要载体蛋白，B说法错误；C、植物激素可与特异性受体结合，从而调节基因表达，C说法正确；D、一种激素可通过诱导其他激素的合成发挥作用，如赤霉素通过诱导生长素的合成而发挥作用，D说法正确。故答案为B。\n",
        "\n",
        "--------\n",
        "## 题目编号：3\n",
        "## 题目标答\n",
        "D\n",
        "## InternLM-WQX 模型输出\n",
        "A、甲状腺激素几乎作用于全身细胞，故其受体分布于人体内几乎所有细胞，A说法正确；B、甲状腺激素能提高神经系统的兴奋性，B说法正确；C、甲状腺激素能促进新陈代谢，故甲状腺激素分泌增加可使细胞代谢速率加快，C说法正确；D、下丘脑和垂体对甲状腺激素的调节属于负反馈调节，甲状腺激素分泌不足，对垂体的抑制作用减弱，会使血中TSH含量增加，D说法错误。故答案为D。\n",
        "\n",
        "--------\n",
        "## 题目编号：4（含图片）\n",
        "## 题目标答\n",
        "B\n",
        "## InternLM-WQX 模型输出\n",
        "A、甲数量增加导致乙数量增加，乙数量增加导致丙数量减少，因此甲数量的变化会对丙数量产生影响，A说法错误；B、乙的数量变化与甲、丙的数量变化有关，因此乙在该生态系统中既是捕食者又是被捕食者，B说法正确；C、丙可能是初级消费者，也可能是次级消费者，C说法正确；D、能量流动方向可能是甲→乙→丙，也可能是丙→乙→甲，D说法正确。故答案为BCD。\n",
        "\n",
        "--------\n",
        "## 题目编号：5\n",
        "## 题目标答\n",
        "A\n",
        "## InternLM-WQX 模型输出\n",
        "A、若亲本为直翅黄体♀×弯翅灰体♂，则亲本的基因型为AAX<sup>B</sup>X<sup>B</sup>×aaX<sup>b</sup>Y，F<sub>1</sub>的基因型为AaX<sup>B</sup>X<sup>b</sup>、AaX<sup>B</sup>Y，F<sub>1</sub>相互交配得F<sub>2</sub>，F<sub>2</sub>的性状分离比为（3：1）（1：1）=3：3：1：1，A说法错误；B、若亲本为直翅灰体♀×弯翅黄体♂，则亲本的基因型为AAX<sup>B</sup>X<sup>B</sup>×aaX<sup>b</sup>Y，F<sub>1</sub>的基因型为AaX<sup>B</sup>X<sup>b</sup>、AaX<sup>B</sup>Y，F<sub>1</sub>相互交配得F<sub>2</sub>，F<sub>2</sub>的性状分离比为（3：1）（1：1）=3：3：1：1，B说法错误；C、若亲本为弯翅红眼♀×直翅紫眼♂，则亲本的基因型为aaX<sup>b</sup>X<sup>b</sup>×AAX<sup>e</sup>Y，F<sub>1</sub>的基因型为AaX<sup>b</sup>X<sup>e</sup>、AaX<sup>b</sup>Y，F<sub>1</sub>相互交配得F<sub>2</sub>，F<sub>2</sub>的性状分离比为（3：1）（1：1）=3：3：1：1，C说法错误；D、若亲本为灰体紫眼♀×黄体红眼♂，则亲本的基因型为AAX<sup>e</sup>X<sup>e</sup>×aaX<sup>E</sup>Y，F<sub>1</sub>的基因型为AaX<sup>e</sup>X<sup>E</sup>、AaX<sup>e</sup>Y，F<sub>1</sub>相互交配得F<sub>2</sub>，F<sub>2</sub>的性状分离比为（3：1）（1：1）=3：3：1：1，D说法错误。故答案为ABCD。\n",
        "\n",
        "--------\n",
        "## 题目编号：6（含图片）\n",
        "## 题目标答\n",
        "暂无\n",
        "## InternLM-WQX 模型输出\n",
        "A、ATP转化为ADP可为离子的主动运输提供能量，A说法正确；B、ATP中α位磷酸基团为普通磷酸键，β和γ位磷酸基团之间的高能磷酸键断裂，可参与RNA的合成，故用α位<sup>32</sup>P标记的ATP可以合成带有<sup>32</sup>P的RNA，B说法正确；C、β和γ位磷酸基团之间的高能磷酸键断裂，可参与RNA的合成，故能在细胞核中断裂，C说法错误；D、光合作用可将光能转化为化学能储存于β和γ位磷酸基团之间的高能磷酸键，D说法正确。故答案为C。\n",
        "\n",
        "--------\n",
        "## 题目编号：7\n",
        "## 题目标答\n",
        "(1)(2) (3)\n",
        "## InternLM-WQX 模型输出\n",
        "(1)细胞核(2) 核糖体 3∶1(3) 3 5\n",
        "\n",
        "--------\n",
        "## 题目编号：8（含图片）\n",
        "## 题目标答\n",
        "(1)(2)(3) (4) (5)\n",
        "## InternLM-WQX 模型输出\n",
        "(1)显微镜直接计数法不能区分活菌和死菌，而菌落计数法只计数活菌(2)5×10<sup>7</sup>(3) 灭菌 防止高温杀死菌种(4) A 消毒液A在稀释度为10<sup>-2</sup>时，杀菌效果最好；消毒液A在稀释度为10<sup>-2</sup>时，杀菌效果最好，且杀菌效果最好(5)黑色\n",
        "\n",
        "--------\n",
        "## 题目编号：9（含图片）\n",
        "## 题目标答\n",
        "(1) 不相等 温度a和c时的呼吸速率不相等(2)温度d时，叶片的光合速率与呼吸速率相等，但植物的根部等细胞不进行光合作用，仍呼吸消耗有机物，导致植物体的干重减少(3)温度过高，导致部分气孔关闭，CO<sub>2</sub>供应不足，暗反应速率降低；温度过高，导致酶的活性降低，使暗反应速率降低(4)光合速率和呼吸速率差值\n",
        "## InternLM-WQX 模型输出\n",
        "(1) 不相等 叶片有机物积累速率=净光合速率=总光合速率-呼吸速率，温度a时的呼吸速率大于温度c时的呼吸速率(2)温度d时，呼吸速率大于光合速率(3)CO<sub>2</sub>供应不足或RuBP羧化酶活性降低(4)光合速率\n",
        "\n",
        "--------\n",
        "## 题目编号：10\n",
        "## 题目标答\n",
        "(1)体液免疫(2)肽键(3)实验思路：以蛋白质A的片段为抗原，制备单克隆抗体，利用差速离心法将吞噬细胞中的溶酶体分离，并提取溶酶体中的蛋白质，利用抗原抗体杂交技术进行检测预期结果：出现杂交带，表明蛋白质A的片段可出现在吞噬细胞的溶酶体中\n",
        "## InternLM-WQX 模型输出\n",
        "体液免疫 肽键 实验思路：将蛋白质A与细胞膜具有一定亲和性的荧光染料一起培养吞噬细胞，一段时间后，用离心方法获得吞噬细胞，并制备细胞的各种细胞器(如溶酶体)的匀浆，检测各匀浆样品的荧光强度。预期结果：溶酶体匀浆样品的荧光强度较其他细胞器匀浆样品强\n",
        "\n",
        "--------\n",
        "## 题目编号：11\n",
        "## 题目标答\n",
        "(1)在原地对被保护的生态系统或物种建立自然保护区以及国家公园等(2)天敌、竞争者、食物等(3)存在环境阻力(4)增加生物多样性\n",
        "## InternLM-WQX 模型输出\n",
        "(1)在原地对鸟类B的栖息地进行保护(2)食物、天敌、气候等(3)资源和空间有限(4)维持生态平衡\n",
        "\n",
        "--------\n",
        "## 题目编号：12（含图片）\n",
        "## 题目标答\n",
        "(1) 变性 氢键(2) 避免目的基因和质粒的任意连接、防止目的基因和质粒的自身环化 T<sub>4</sub>DNA连接酶(3) 细胞处于一种能吸收周围环境中DNA分子的生理状态 利用DNA分子杂交技术，将大肠杆菌的基因组DNA提取出来，在含有目的基因的DNA片段上用放射性同位素等作标记，以此作为探针，使探针与基因组DNA杂交，如果显示出杂交带，表明大肠杆菌中含有重组质粒(4)甘氨酸-脯氨酸-丝氨酸\n",
        "## InternLM-WQX 模型输出\n",
        "(1) 变性 H键(氢键)(2) 防止质粒自身环化、防止目的基因与质粒反向连接 T<sub>4</sub>DNA连接酶(3) 细胞膜的通透性增加，能吸收周围环境中DNA分子 用限制酶a和b分别切割转化的大肠杆菌中的DNA和质粒，通过电泳检测是否有目的基因和质粒(4)AGAAGAAGAGAGAGAGAGAGAGAGAGAGAGAGAGAGAGAGAGAGAGAGAGAGAGAGAGAGAGAGAGAGAGAGAGAGAGAGAGAGAGAGAGAGAGAGAGAGAGAGAGAGAGAGAGAGAGAGAGAGAGAGAGAGAGAGAGAGAGAGAGAGAGAGAGAGAGAGAGAGAGAGAGAGAGAGAGAGAGAGAGAGAGAGAGAGAGAGAGAGAGAGAGAGAGAGAGAGAGAGAGAGAGAGAGAGAGAGAGAGAGAGAGAGAGAGAGAGAGAGAGAGAGAGAGAGAGAGAGAGAGAGAGAGAGAGAGAGAGAGAGAGAGAGAGAGAGAGAGAGAGAGAGAGAGAGAGAGAGAGAGAGAGAGAGAGAGAGAGAGAGAGAGAGAGAGAGAGAGAGAGAGAGAGAGAGAGAGAGAGAGAGAGAGAGAGAGAGAGAGAGAGAGAGAGAGAGAGAGAGAGAGAGAGAGAGAGAGAGAGAGAGAGAGAGAGAGAGAGAGAGAGAGAGAGAGAGAGAGAGAGAGAGAGAGAGAGAGAGAGAGAGAGAGAGAGAGAGAGAGAGAGAGAGAGAGAGAGAGAGAGAGAGAGAGAGAGAGAGAGAGAGAGAGAGAGAGAGAGAGAGAGAGAGAGAGAGAGAGAGAGAGAGAGAGAGAGAGAGAGAGAGAGAGAGAGAGAGAGAGAGAGAGAGAGAGAGAGAGAGAGAGAGAGAGAGAGAGAGAGAGAGAGAGAGAGAGAGAGAGAGAGAGAGAGAGAGAGAGAGAGAGAGAGAGAGAGAGAGAGAGAGAGAGAGAGAGAGAGAGAGAGAGAGAGAGAGAGAGAGAGAGAGAGAGAGAGAGAGAGAGAGAGAGAGAGAGAGAGAGAGAGAGAGAGAGAGAGAGAGAGAGAGAGAGAGAGAGAGAGAGAGAGAGAGAGAGAGAGAGAGAGAGAGAGAGAGAGAGAGAGAGAGAGAGAGAGAGAGAGAGAGAGAGAGAGAGAGAGAGAGAGAGAGAGAGAGAGAGAGAGAGAGAGAGAGAGAGAGAGAGAGAGAGAGAGAGAGAGAGAGAGAGAGAGAGAGAGAGAGAGAGAGAGAGAGAGAGAGAGAGAGAGAGAGAGAGAGAGAGAGAGAGAGAGAGAGAGAGAGAGAGAGAGAGAGAGAGAGAGAGAGAGAGAGAGAGAGAGAGAGAGAGAGAGAGAGAGAGAGAGAGAGAGAGAGAGAGAGAGAGAGAGAGAGAGAGAGAGAGAGAGAGAGAGAGAGAGAGAGAGAGAGAGAGAGAGAGAGAGAGAGAGAGAGAGAGAGAGAGAGAGAGAGAGAGAGAGAGAGAGAGAGAGAGAGAGAGAGAGAGAGAGAGAGAGAGAGAGAGAGAGAGAGAGAGAGAGAGAGAGAGAGAGAGAGAGAGAGAGAGAGAGAGAGAGAGAGAGAGAGAGAGAGAGAGAGAGAGAGAGAGAGAGAGAGAGAGAGAGAGAGAGAGAGAGAGAGAGAGAGAGAGAGAGAGAGAGAGAGAGAGAGAGAGAGAGAGAGAGAGAGAGAGAGAGAGAGAGAGAGAGAGAGAGAGAGAGAGAGAGAGAGAGAGAGAGAGAGAGAGAGAGAGAGAGAGAGAGAGAGAGAGAGAGAGAGAGAGAGAGAGAGAGAGAGAGAGAGAGAGAGAGAGAGAGAGAGAGAGAGAGAGAGAGAGAGAGAGAGAGAGAGAGAGAGAGAGAGAGAGAGAGAGAGAGAGAGAGAGAGAGAGAGAGAGAGAGAGAGAGAGAGAGAGAGAGAGAGAGAGAGAGAGAGAGAGAGAGAGAGAGAGAGAGAGAGAGAGAGAGAGAGAGAGAGAGAGAGAGAGAGAGAGAGAGAGAGAGAGAGAGAGAGAGAGAGAGAGAGAGAGAGAGAGAGAGAGAGAGAGAGAGAGAGAGAGAGAGAGAGAGAGAGAGAGAGAGAGAGAGAGAGAGAGAGAGAGAGAGAGAGAGAGAGAGAGAGAGAGAGAGAGAGAGAGAGAGAGAGAGAGAGAGAGAGAGAGAGAGAGAGAGAGAGAGAGAGAGAGAGAGAGAGAGAGAGAGAGAGAGAGAGAGAGAGAGAGAGAGAGAGAGAGAGAGAGAGAGAGAGAGAGAGAGAGAGAGAGAGAGAGAGAGAGAGAGAGAGAGAGAGAGAGAGAGAGAGAGAGAGAGAGAGAGAGAGAGAGAGAGAGAGAGAGAGAGAGAGAGAGAGAGAGAGAGAGAGAGAGAGAGAGAGAGAGAGAGAGAGAGAGAGAGAGAGAGAGAGAGAGAGAGAGAGAGAGAGAGAGAGAGAGAGAGAGAGAGAGAGAGAGAGAGAGAGAGAGAGAGAGAGAGAGAGAGAGAGAGAGAGAGAGAGAGAGAGAGAGAGAGAGAGAGAGAGAGAGAGAGAGAGAGAGAGAGAGAGAGAGAGAGAGAGAGAGAGAGAGAGAGAGAGAGAGAGAGAGAGAGAGAGAGAGAGAGAGAGAGAGAGAGAGAGAGAGAGAGAGAGAGAGAGAGAGAGAGAGAGAGAGAGAGAGAGAGAGAGAGAGAGAGAGAGAGAGAGAGAGAGAGAGAGAGAGAGAGAGAGAGAGAGAGAGAGAGAGAGAGAGAGAGAGAGAGAGAGAGAGAGAGAGAGAGAGAGAGAGAGAGAGAGAGAGAGAGAGAGAGAGAGAGAGAGAGAGAGAGAGAGAGAGAGAGAGAGAGAGAGAGAGAGAGAGAGAGAGAGAGAGAGAGAGAGAGAGAGAGAGAGAGAGAGAGAGAGAGAGAGAGAGAGAGAGAGAGAGAGAGAGAGAGAGAGAGAGAGAGAGAGAGAGAGAGAGAGAGAGAGAGAGAGAGAGAGAGAGAGAGAGAGAGAGAGAGAGAGAGAGAGAGAGAGAGAGAGAGAGAGAGAGAGAGAGAGAGAGAGAGAGAGAGAGAGAGAGAGAGAGAGAGAGAGAGAGAGAGAGAGAGAGAGAGAGAGAGAGAGAGAGAGAGAGAGAGAGAGAGAGAGAGAGAGAGAGAGAGAGAGAGAGAGAGAGAGAGAGAGAGAGAGAGAGAGAGAGAGAGAGAGAGAGAGAGAGAGAGAGAGAGAGAGAGAGAGAGAGAGAGAGAGAGAGAGAGAGAGAGAGAGAGAGAGAGAGAGAGAGAGAGAGAGAGAGAGAGAGAGAGAGAGAGAGAGAGAGAGAGAGAGAGAGAGAGAGAGAGAGAGAGAGAGAGAGAGAGAGAGAGAGAGAGAGAGAGAGAGAGAGAGAGAGAGAGAGAGAGAGAGAGAGAGAGAGAGAGAGAGAGAGAGAGAGAGAGAGAGAGAGAGAGAGAGAGAGAGAGAGAGAGAGAGAGAGAGAGAGAGAGAGAGAGAGAGAGAGAGAGAGAGAGAGAGAGAGAGAGAGAGAGAGAGAGAGAGAGAGAGAG\n"
      ]
    },
    {
      "cell_type": "code",
      "execution_count": 1,
      "metadata": {
        "execution": {
          "iopub.execute_input": "2024-06-18T03:14:34.212428Z",
          "iopub.status.busy": "2024-06-18T03:14:34.212181Z",
          "iopub.status.idle": "2024-06-18T03:21:53.492756Z",
          "shell.execute_reply": "2024-06-18T03:21:53.492066Z"
        }
      },
      "outputs": [
        {
          "data": {
            "application/vnd.jupyter.widget-view+json": {
              "model_id": "d0a6e42ec9354262910338babeaca64a",
              "version_major": 2,
              "version_minor": 0
            },
            "text/plain": [
              "Loading checkpoint shards:   0%|          | 0/4 [00:00<?, ?it/s]"
            ]
          },
          "metadata": {},
          "output_type": "display_data"
        }
      ],
      "source": [
        "import re\n",
        "import json\n",
        "\n",
        "import torch\n",
        "from transformers import AutoTokenizer, AutoModelForCausalLM\n",
        "\n",
        "device = torch.device(\"cuda\")\n",
        "\n",
        "model_path = \"internlm/internlm2-wqx-20b\"\n",
        "gen_kwargs = {\"max_length\": 2048, \"do_sample\": False}\n",
        "\n",
        "tokenizer = AutoTokenizer.from_pretrained(\n",
        "    model_path, trust_remote_code=True,\n",
        ")\n",
        "model = AutoModelForCausalLM.from_pretrained(\n",
        "    model_path,\n",
        "    trust_remote_code=True,\n",
        "    torch_dtype=torch.float16,\n",
        ").eval().to(device)\n"
      ]
    },
    {
      "cell_type": "code",
      "execution_count": 2,
      "metadata": {
        "execution": {
          "iopub.execute_input": "2024-06-18T03:21:53.495612Z",
          "iopub.status.busy": "2024-06-18T03:21:53.495201Z",
          "iopub.status.idle": "2024-06-18T03:24:06.223084Z",
          "shell.execute_reply": "2024-06-18T03:24:06.222582Z"
        }
      },
      "outputs": [
        {
          "name": "stdout",
          "output_type": "stream",
          "text": [
            "试卷名：全国甲卷 高考真题 【生物】学科\n"
          ]
        },
        {
          "name": "stdout",
          "output_type": "stream",
          "text": [
            "***********************************\n",
            "题目编号：1\n",
            "题目标答：C\n",
            "InternLM-WQX 模型输出：A、病毒没有细胞结构，A说法错误；B、原核生物没有线粒体，但部分原核生物含有与有氧呼吸有关的酶，也能进行有氧呼吸，如醋酸菌，B说法错误；C、哺乳动物同一个体中细胞的染色体数目有可能不同，如处于有丝分裂后期的细胞和其他时期的细胞中染色体数目不同，C说法正确；D、小麦根细胞中没有叶绿体，吸收离子消耗的ATP主要由线粒体产生，D说法错误。故答案为C。\n"
          ]
        },
        {
          "name": "stdout",
          "output_type": "stream",
          "text": [
            "***************\n",
            "题目编号：2\n",
            "题目标答：B\n",
            "InternLM-WQX 模型输出：A、赤霉素可以诱导某些酶的合成，从而促进种子萌发，A说法正确；B、单侧光下生长素的横向运输属于主动运输，需要载体蛋白，B说法错误；C、植物激素可与特异性受体结合，从而调节基因表达，C说法正确；D、一种激素可通过诱导其他激素的合成发挥作用，如赤霉素通过诱导生长素的合成而发挥作用，D说法正确。故答案为B。\n"
          ]
        },
        {
          "name": "stdout",
          "output_type": "stream",
          "text": [
            "***************\n",
            "题目编号：3\n",
            "题目标答：D\n",
            "InternLM-WQX 模型输出：A、甲状腺激素几乎作用于全身细胞，故其受体分布于人体内几乎所有细胞，A说法正确；B、甲状腺激素能提高神经系统的兴奋性，B说法正确；C、甲状腺激素能促进新陈代谢，故甲状腺激素分泌增加可使细胞代谢速率加快，C说法正确；D、下丘脑和垂体对甲状腺激素的调节属于负反馈调节，甲状腺激素分泌不足，对垂体的抑制作用减弱，会使血中TSH含量增加，D说法错误。故答案为D。\n"
          ]
        },
        {
          "name": "stdout",
          "output_type": "stream",
          "text": [
            "***************\n",
            "题目编号：4（含图片）\n",
            "题目标答：B\n",
            "InternLM-WQX 模型输出：A、甲数量增加导致乙数量增加，乙数量增加导致丙数量减少，因此甲数量的变化会对丙数量产生影响，A说法错误；B、乙的数量变化与甲、丙的数量变化有关，因此乙在该生态系统中既是捕食者又是被捕食者，B说法正确；C、丙可能是初级消费者，也可能是次级消费者，C说法正确；D、能量流动方向可能是甲→乙→丙，也可能是丙→乙→甲，D说法正确。故答案为BCD。\n"
          ]
        },
        {
          "name": "stdout",
          "output_type": "stream",
          "text": [
            "***************\n",
            "题目编号：5\n",
            "题目标答：A\n",
            "InternLM-WQX 模型输出：A、若亲本为直翅黄体♀×弯翅灰体♂，则亲本的基因型为AAX<sup>B</sup>X<sup>B</sup>×aaX<sup>b</sup>Y，F<sub>1</sub>的基因型为AaX<sup>B</sup>X<sup>b</sup>、AaX<sup>B</sup>Y，F<sub>1</sub>相互交配得F<sub>2</sub>，F<sub>2</sub>的性状分离比为（3：1）（1：1）=3：3：1：1，A说法错误；B、若亲本为直翅灰体♀×弯翅黄体♂，则亲本的基因型为AAX<sup>B</sup>X<sup>B</sup>×aaX<sup>b</sup>Y，F<sub>1</sub>的基因型为AaX<sup>B</sup>X<sup>b</sup>、AaX<sup>B</sup>Y，F<sub>1</sub>相互交配得F<sub>2</sub>，F<sub>2</sub>的性状分离比为（3：1）（1：1）=3：3：1：1，B说法错误；C、若亲本为弯翅红眼♀×直翅紫眼♂，则亲本的基因型为aaX<sup>b</sup>X<sup>b</sup>×AAX<sup>e</sup>Y，F<sub>1</sub>的基因型为AaX<sup>b</sup>X<sup>e</sup>、AaX<sup>b</sup>Y，F<sub>1</sub>相互交配得F<sub>2</sub>，F<sub>2</sub>的性状分离比为（3：1）（1：1）=3：3：1：1，C说法错误；D、若亲本为灰体紫眼♀×黄体红眼♂，则亲本的基因型为AAX<sup>e</sup>X<sup>e</sup>×aaX<sup>E</sup>Y，F<sub>1</sub>的基因型为AaX<sup>e</sup>X<sup>E</sup>、AaX<sup>e</sup>Y，F<sub>1</sub>相互交配得F<sub>2</sub>，F<sub>2</sub>的性状分离比为（3：1）（1：1）=3：3：1：1，D说法错误。故答案为ABCD。\n"
          ]
        },
        {
          "name": "stdout",
          "output_type": "stream",
          "text": [
            "***************\n",
            "题目编号：6（含图片）\n",
            "题目标答：暂无\n",
            "InternLM-WQX 模型输出：A、ATP转化为ADP可为离子的主动运输提供能量，A说法正确；B、ATP中α位磷酸基团为普通磷酸键，β和γ位磷酸基团之间的高能磷酸键断裂，可参与RNA的合成，故用α位<sup>32</sup>P标记的ATP可以合成带有<sup>32</sup>P的RNA，B说法正确；C、β和γ位磷酸基团之间的高能磷酸键断裂，可参与RNA的合成，故能在细胞核中断裂，C说法错误；D、光合作用可将光能转化为化学能储存于β和γ位磷酸基团之间的高能磷酸键，D说法正确。故答案为C。\n"
          ]
        },
        {
          "name": "stdout",
          "output_type": "stream",
          "text": [
            "***************\n",
            "题目编号：7\n",
            "题目标答：(1)(2) (3)\n",
            "InternLM-WQX 模型输出：(1)细胞核(2) 核糖体 3∶1(3) 3 5\n"
          ]
        },
        {
          "name": "stdout",
          "output_type": "stream",
          "text": [
            "***************\n",
            "题目编号：8（含图片）\n",
            "题目标答：(1)(2)(3) (4) (5)\n",
            "InternLM-WQX 模型输出：(1)显微镜直接计数法不能区分活菌和死菌，而菌落计数法只计数活菌(2)5×10<sup>7</sup>(3) 灭菌 防止高温杀死菌种(4) A 消毒液A在稀释度为10<sup>-2</sup>时，杀菌效果最好；消毒液A在稀释度为10<sup>-2</sup>时，杀菌效果最好，且杀菌效果最好(5)黑色\n"
          ]
        },
        {
          "name": "stdout",
          "output_type": "stream",
          "text": [
            "***************\n",
            "题目编号：9（含图片）\n",
            "题目标答：(1) 不相等 温度a和c时的呼吸速率不相等(2)温度d时，叶片的光合速率与呼吸速率相等，但植物的根部等细胞不进行光合作用，仍呼吸消耗有机物，导致植物体的干重减少(3)温度过高，导致部分气孔关闭，CO<sub>2</sub>供应不足，暗反应速率降低；温度过高，导致酶的活性降低，使暗反应速率降低(4)光合速率和呼吸速率差值\n",
            "InternLM-WQX 模型输出：(1) 不相等 叶片有机物积累速率=净光合速率=总光合速率-呼吸速率，温度a时的呼吸速率大于温度c时的呼吸速率(2)温度d时，呼吸速率大于光合速率(3)CO<sub>2</sub>供应不足或RuBP羧化酶活性降低(4)光合速率\n"
          ]
        },
        {
          "name": "stdout",
          "output_type": "stream",
          "text": [
            "***************\n",
            "题目编号：10\n",
            "题目标答：(1)体液免疫(2)肽键(3)实验思路：以蛋白质A的片段为抗原，制备单克隆抗体，利用差速离心法将吞噬细胞中的溶酶体分离，并提取溶酶体中的蛋白质，利用抗原抗体杂交技术进行检测预期结果：出现杂交带，表明蛋白质A的片段可出现在吞噬细胞的溶酶体中\n",
            "InternLM-WQX 模型输出：体液免疫 肽键 实验思路：将蛋白质A与细胞膜具有一定亲和性的荧光染料一起培养吞噬细胞，一段时间后，用离心方法获得吞噬细胞，并制备细胞的各种细胞器(如溶酶体)的匀浆，检测各匀浆样品的荧光强度。预期结果：溶酶体匀浆样品的荧光强度较其他细胞器匀浆样品强\n"
          ]
        },
        {
          "name": "stdout",
          "output_type": "stream",
          "text": [
            "***************\n",
            "题目编号：11\n",
            "题目标答：(1)在原地对被保护的生态系统或物种建立自然保护区以及国家公园等(2)天敌、竞争者、食物等(3)存在环境阻力(4)增加生物多样性\n",
            "InternLM-WQX 模型输出：(1)在原地对鸟类B的栖息地进行保护(2)食物、天敌、气候等(3)资源和空间有限(4)维持生态平衡\n"
          ]
        },
        {
          "name": "stdout",
          "output_type": "stream",
          "text": [
            "***************\n",
            "题目编号：12（含图片）\n",
            "题目标答：(1) 变性 氢键(2) 避免目的基因和质粒的任意连接、防止目的基因和质粒的自身环化 T<sub>4</sub>DNA连接酶(3) 细胞处于一种能吸收周围环境中DNA分子的生理状态 利用DNA分子杂交技术，将大肠杆菌的基因组DNA提取出来，在含有目的基因的DNA片段上用放射性同位素等作标记，以此作为探针，使探针与基因组DNA杂交，如果显示出杂交带，表明大肠杆菌中含有重组质粒(4)甘氨酸-脯氨酸-丝氨酸\n",
            "InternLM-WQX 模型输出：(1) 变性 H键(氢键)(2) 防止质粒自身环化、防止目的基因与质粒反向连接 T<sub>4</sub>DNA连接酶(3) 细胞膜的通透性增加，能吸收周围环境中DNA分子 用限制酶a和b分别切割转化的大肠杆菌中的DNA和质粒，通过电泳检测是否有目的基因和质粒(4)AGAAGAAGAGAGAGAGAGAGAGAGAGAGAGAGAGAGAGAGAGAGAGAGAGAGAGAGAGAGAGAGAGAGAGAGAGAGAGAGAGAGAGAGAGAGAGAGAGAGAGAGAGAGAGAGAGAGAGAGAGAGAGAGAGAGAGAGAGAGAGAGAGAGAGAGAGAGAGAGAGAGAGAGAGAGAGAGAGAGAGAGAGAGAGAGAGAGAGAGAGAGAGAGAGAGAGAGAGAGAGAGAGAGAGAGAGAGAGAGAGAGAGAGAGAGAGAGAGAGAGAGAGAGAGAGAGAGAGAGAGAGAGAGAGAGAGAGAGAGAGAGAGAGAGAGAGAGAGAGAGAGAGAGAGAGAGAGAGAGAGAGAGAGAGAGAGAGAGAGAGAGAGAGAGAGAGAGAGAGAGAGAGAGAGAGAGAGAGAGAGAGAGAGAGAGAGAGAGAGAGAGAGAGAGAGAGAGAGAGAGAGAGAGAGAGAGAGAGAGAGAGAGAGAGAGAGAGAGAGAGAGAGAGAGAGAGAGAGAGAGAGAGAGAGAGAGAGAGAGAGAGAGAGAGAGAGAGAGAGAGAGAGAGAGAGAGAGAGAGAGAGAGAGAGAGAGAGAGAGAGAGAGAGAGAGAGAGAGAGAGAGAGAGAGAGAGAGAGAGAGAGAGAGAGAGAGAGAGAGAGAGAGAGAGAGAGAGAGAGAGAGAGAGAGAGAGAGAGAGAGAGAGAGAGAGAGAGAGAGAGAGAGAGAGAGAGAGAGAGAGAGAGAGAGAGAGAGAGAGAGAGAGAGAGAGAGAGAGAGAGAGAGAGAGAGAGAGAGAGAGAGAGAGAGAGAGAGAGAGAGAGAGAGAGAGAGAGAGAGAGAGAGAGAGAGAGAGAGAGAGAGAGAGAGAGAGAGAGAGAGAGAGAGAGAGAGAGAGAGAGAGAGAGAGAGAGAGAGAGAGAGAGAGAGAGAGAGAGAGAGAGAGAGAGAGAGAGAGAGAGAGAGAGAGAGAGAGAGAGAGAGAGAGAGAGAGAGAGAGAGAGAGAGAGAGAGAGAGAGAGAGAGAGAGAGAGAGAGAGAGAGAGAGAGAGAGAGAGAGAGAGAGAGAGAGAGAGAGAGAGAGAGAGAGAGAGAGAGAGAGAGAGAGAGAGAGAGAGAGAGAGAGAGAGAGAGAGAGAGAGAGAGAGAGAGAGAGAGAGAGAGAGAGAGAGAGAGAGAGAGAGAGAGAGAGAGAGAGAGAGAGAGAGAGAGAGAGAGAGAGAGAGAGAGAGAGAGAGAGAGAGAGAGAGAGAGAGAGAGAGAGAGAGAGAGAGAGAGAGAGAGAGAGAGAGAGAGAGAGAGAGAGAGAGAGAGAGAGAGAGAGAGAGAGAGAGAGAGAGAGAGAGAGAGAGAGAGAGAGAGAGAGAGAGAGAGAGAGAGAGAGAGAGAGAGAGAGAGAGAGAGAGAGAGAGAGAGAGAGAGAGAGAGAGAGAGAGAGAGAGAGAGAGAGAGAGAGAGAGAGAGAGAGAGAGAGAGAGAGAGAGAGAGAGAGAGAGAGAGAGAGAGAGAGAGAGAGAGAGAGAGAGAGAGAGAGAGAGAGAGAGAGAGAGAGAGAGAGAGAGAGAGAGAGAGAGAGAGAGAGAGAGAGAGAGAGAGAGAGAGAGAGAGAGAGAGAGAGAGAGAGAGAGAGAGAGAGAGAGAGAGAGAGAGAGAGAGAGAGAGAGAGAGAGAGAGAGAGAGAGAGAGAGAGAGAGAGAGAGAGAGAGAGAGAGAGAGAGAGAGAGAGAGAGAGAGAGAGAGAGAGAGAGAGAGAGAGAGAGAGAGAGAGAGAGAGAGAGAGAGAGAGAGAGAGAGAGAGAGAGAGAGAGAGAGAGAGAGAGAGAGAGAGAGAGAGAGAGAGAGAGAGAGAGAGAGAGAGAGAGAGAGAGAGAGAGAGAGAGAGAGAGAGAGAGAGAGAGAGAGAGAGAGAGAGAGAGAGAGAGAGAGAGAGAGAGAGAGAGAGAGAGAGAGAGAGAGAGAGAGAGAGAGAGAGAGAGAGAGAGAGAGAGAGAGAGAGAGAGAGAGAGAGAGAGAGAGAGAGAGAGAGAGAGAGAGAGAGAGAGAGAGAGAGAGAGAGAGAGAGAGAGAGAGAGAGAGAGAGAGAGAGAGAGAGAGAGAGAGAGAGAGAGAGAGAGAGAGAGAGAGAGAGAGAGAGAGAGAGAGAGAGAGAGAGAGAGAGAGAGAGAGAGAGAGAGAGAGAGAGAGAGAGAGAGAGAGAGAGAGAGAGAGAGAGAGAGAGAGAGAGAGAGAGAGAGAGAGAGAGAGAGAGAGAGAGAGAGAGAGAGAGAGAGAGAGAGAGAGAGAGAGAGAGAGAGAGAGAGAGAGAGAGAGAGAGAGAGAGAGAGAGAGAGAGAGAGAGAGAGAGAGAGAGAGAGAGAGAGAGAGAGAGAGAGAGAGAGAGAGAGAGAGAGAGAGAGAGAGAGAGAGAGAGAGAGAGAGAGAGAGAGAGAGAGAGAGAGAGAGAGAGAGAGAGAGAGAGAGAGAGAGAGAGAGAGAGAGAGAGAGAGAGAGAGAGAGAGAGAGAGAGAGAGAGAGAGAGAGAGAGAGAGAGAGAGAGAGAGAGAGAGAGAGAGAGAGAGAGAGAGAGAGAGAGAGAGAGAGAGAGAGAGAGAGAGAGAGAGAGAGAGAGAGAGAGAGAGAGAGAGAGAGAGAGAGAGAGAGAGAGAGAGAGAGAGAGAGAGAGAGAGAGAGAGAGAGAGAGAGAGAGAGAGAGAGAGAGAGAGAGAGAGAGAGAGAGAGAGAGAGAGAGAGAGAGAGAGAGAGAGAGAGAGAGAGAGAGAGAGAGAGAGAGAGAGAGAGAGAGAGAGAGAGAGAGAGAGAGAGAGAGAGAGAGAGAGAGAGAGAGAGAGAGAGAGAGAGAGAGAGAGAGAGAGAGAGAGAGAGAGAGAGAGAGAGAGAGAGAGAGAGAGAGAGAGAGAGAGAGAGAGAGAGAGAGAGAGAGAGAGAGAGAGAGAGAGAGAGAGAGAGAGAGAGAGAGAGAGAGAGAGAGAGAGAGAGAGAGAGAGAGAGAGAGAGAGAGAGAGAGAGAGAGAGAGAGAGAGAGAGAGAGAGAGAGAGAGAGAGAGAGAGAGAGAGAGAGAGAGAGAGAGAGAGAGAGAGAGAGAGAGAGAGAGAGAGAGAGAGAGAGAGAGAGAGAGAGAGAGAGAGAGAGAGAGAGAGAGAGAGAGAGAGAGAGAGAGAGAGAGAGAGAGAGAGAGAGAGAGAGAGAGAGAGAGAGAGAGAGAGAGAGAGAGAGAGAGAGAGAGAGAGAGAGAGAGAGAGAGAGAGAGAGAGAGAGAGAGAGAGAGAGAGAGAGAGAGAGAGAGAGAGAGAGAGAGAGAGAGAGAGAGAGAGAGAGAGAGAG\n"
          ]
        }
      ],
      "source": [
        "subject, paper_type = \"生物\", \"全国甲卷\"\n",
        "file_name = f\"../data/{paper_type}/{subject}.jsonl\"\n",
        "\n",
        "questions = []\n",
        "\n",
        "print(f\"试卷名：{paper_type} 高考真题 【{subject}】学科\")\n",
        "\n",
        "with open(file_name, \"r\") as f:\n",
        "    for i, line in enumerate(f):\n",
        "        data = json.loads(line)\n",
        "        has_img, question = False, data['prompt']\n",
        "\n",
        "        if '<img' in question:\n",
        "            has_img = True\n",
        "            question = re.sub(r'<img[^>]*?/>', \"\", question)\n",
        "\n",
        "        inputs = tokenizer(question, return_tensors=\"pt\")\n",
        "        input_ids = inputs[\"input_ids\"].to(device)\n",
        "\n",
        "        outputs = model.generate(input_ids, **gen_kwargs)\n",
        "        outputs = outputs[0].cpu().tolist()[len(inputs[\"input_ids\"][0]) :]\n",
        "\n",
        "        response = tokenizer.decode(outputs, skip_special_tokens=True)\n",
        "        response = response.split(\"<|im_end|>\")[0]\n",
        "\n",
        "        if i == 0:\n",
        "            print(\"*\" * 35)\n",
        "        else:\n",
        "            print(\"*\" * 15)\n",
        "\n",
        "        print(\"题目编号：\" + str(i+1) + (\"（含图片）\" if has_img else \"\"))\n",
        "        print(\"题目标答：\" + data[\"answer\"])\n",
        "        print(\"InternLM-WQX 模型输出：\" + response)\n",
        "            \n",
        "        questions.append({\n",
        "            \"id\": str(i+1),\n",
        "            \"question\": question,\n",
        "            \"answer\": data[\"answer\"],\n",
        "            \"output\": response,\n",
        "            \"has_img\": has_img\n",
        "        })"
      ]
    }
  ],
  "metadata": {
    "kernelspec": {
      "display_name": "base",
      "language": "python",
      "name": "python3"
    },
    "language_info": {
      "codemirror_mode": {
        "name": "ipython",
        "version": 3
      },
      "file_extension": ".py",
      "mimetype": "text/x-python",
      "name": "python",
      "nbconvert_exporter": "python",
      "pygments_lexer": "ipython3",
      "version": "3.10.12"
    },
    "widgets": {
      "application/vnd.jupyter.widget-state+json": {
        "state": {
          "167b1312e7a44878b9fbd33829f4a104": {
            "model_module": "@jupyter-widgets/base",
            "model_module_version": "2.0.0",
            "model_name": "LayoutModel",
            "state": {
              "_model_module": "@jupyter-widgets/base",
              "_model_module_version": "2.0.0",
              "_model_name": "LayoutModel",
              "_view_count": null,
              "_view_module": "@jupyter-widgets/base",
              "_view_module_version": "2.0.0",
              "_view_name": "LayoutView",
              "align_content": null,
              "align_items": null,
              "align_self": null,
              "border_bottom": null,
              "border_left": null,
              "border_right": null,
              "border_top": null,
              "bottom": null,
              "display": null,
              "flex": null,
              "flex_flow": null,
              "grid_area": null,
              "grid_auto_columns": null,
              "grid_auto_flow": null,
              "grid_auto_rows": null,
              "grid_column": null,
              "grid_gap": null,
              "grid_row": null,
              "grid_template_areas": null,
              "grid_template_columns": null,
              "grid_template_rows": null,
              "height": null,
              "justify_content": null,
              "justify_items": null,
              "left": null,
              "margin": null,
              "max_height": null,
              "max_width": null,
              "min_height": null,
              "min_width": null,
              "object_fit": null,
              "object_position": null,
              "order": null,
              "overflow": null,
              "padding": null,
              "right": null,
              "top": null,
              "visibility": null,
              "width": null
            }
          },
          "434d4dd7873e42ad9d981f4897ae3652": {
            "model_module": "@jupyter-widgets/controls",
            "model_module_version": "2.0.0",
            "model_name": "HTMLStyleModel",
            "state": {
              "_model_module": "@jupyter-widgets/controls",
              "_model_module_version": "2.0.0",
              "_model_name": "HTMLStyleModel",
              "_view_count": null,
              "_view_module": "@jupyter-widgets/base",
              "_view_module_version": "2.0.0",
              "_view_name": "StyleView",
              "background": null,
              "description_width": "",
              "font_size": null,
              "text_color": null
            }
          },
          "4cfb367b6b89486baa8cfa96fae55df0": {
            "model_module": "@jupyter-widgets/controls",
            "model_module_version": "2.0.0",
            "model_name": "HTMLModel",
            "state": {
              "_dom_classes": [],
              "_model_module": "@jupyter-widgets/controls",
              "_model_module_version": "2.0.0",
              "_model_name": "HTMLModel",
              "_view_count": null,
              "_view_module": "@jupyter-widgets/controls",
              "_view_module_version": "2.0.0",
              "_view_name": "HTMLView",
              "description": "",
              "description_allow_html": false,
              "layout": "IPY_MODEL_d737bb72bddc46588d9f00a12bbee9ab",
              "placeholder": "​",
              "style": "IPY_MODEL_b00cc430a3e846efa8fbb2c962d6c33d",
              "tabbable": null,
              "tooltip": null,
              "value": " 4/4 [00:03&lt;00:00,  1.08it/s]"
            }
          },
          "69d64c45fb9547fb98c425edf0a7dd15": {
            "model_module": "@jupyter-widgets/base",
            "model_module_version": "2.0.0",
            "model_name": "LayoutModel",
            "state": {
              "_model_module": "@jupyter-widgets/base",
              "_model_module_version": "2.0.0",
              "_model_name": "LayoutModel",
              "_view_count": null,
              "_view_module": "@jupyter-widgets/base",
              "_view_module_version": "2.0.0",
              "_view_name": "LayoutView",
              "align_content": null,
              "align_items": null,
              "align_self": null,
              "border_bottom": null,
              "border_left": null,
              "border_right": null,
              "border_top": null,
              "bottom": null,
              "display": null,
              "flex": null,
              "flex_flow": null,
              "grid_area": null,
              "grid_auto_columns": null,
              "grid_auto_flow": null,
              "grid_auto_rows": null,
              "grid_column": null,
              "grid_gap": null,
              "grid_row": null,
              "grid_template_areas": null,
              "grid_template_columns": null,
              "grid_template_rows": null,
              "height": null,
              "justify_content": null,
              "justify_items": null,
              "left": null,
              "margin": null,
              "max_height": null,
              "max_width": null,
              "min_height": null,
              "min_width": null,
              "object_fit": null,
              "object_position": null,
              "order": null,
              "overflow": null,
              "padding": null,
              "right": null,
              "top": null,
              "visibility": null,
              "width": null
            }
          },
          "9550d02742f043b09d8dc2b1c9033955": {
            "model_module": "@jupyter-widgets/controls",
            "model_module_version": "2.0.0",
            "model_name": "HTMLModel",
            "state": {
              "_dom_classes": [],
              "_model_module": "@jupyter-widgets/controls",
              "_model_module_version": "2.0.0",
              "_model_name": "HTMLModel",
              "_view_count": null,
              "_view_module": "@jupyter-widgets/controls",
              "_view_module_version": "2.0.0",
              "_view_name": "HTMLView",
              "description": "",
              "description_allow_html": false,
              "layout": "IPY_MODEL_d955c97a909e47d88d57ed722b1506a3",
              "placeholder": "​",
              "style": "IPY_MODEL_434d4dd7873e42ad9d981f4897ae3652",
              "tabbable": null,
              "tooltip": null,
              "value": "Loading checkpoint shards: 100%"
            }
          },
          "9f8ef1a732544e4582ea281182582064": {
            "model_module": "@jupyter-widgets/controls",
            "model_module_version": "2.0.0",
            "model_name": "ProgressStyleModel",
            "state": {
              "_model_module": "@jupyter-widgets/controls",
              "_model_module_version": "2.0.0",
              "_model_name": "ProgressStyleModel",
              "_view_count": null,
              "_view_module": "@jupyter-widgets/base",
              "_view_module_version": "2.0.0",
              "_view_name": "StyleView",
              "bar_color": null,
              "description_width": ""
            }
          },
          "b00cc430a3e846efa8fbb2c962d6c33d": {
            "model_module": "@jupyter-widgets/controls",
            "model_module_version": "2.0.0",
            "model_name": "HTMLStyleModel",
            "state": {
              "_model_module": "@jupyter-widgets/controls",
              "_model_module_version": "2.0.0",
              "_model_name": "HTMLStyleModel",
              "_view_count": null,
              "_view_module": "@jupyter-widgets/base",
              "_view_module_version": "2.0.0",
              "_view_name": "StyleView",
              "background": null,
              "description_width": "",
              "font_size": null,
              "text_color": null
            }
          },
          "d0a6e42ec9354262910338babeaca64a": {
            "model_module": "@jupyter-widgets/controls",
            "model_module_version": "2.0.0",
            "model_name": "HBoxModel",
            "state": {
              "_dom_classes": [],
              "_model_module": "@jupyter-widgets/controls",
              "_model_module_version": "2.0.0",
              "_model_name": "HBoxModel",
              "_view_count": null,
              "_view_module": "@jupyter-widgets/controls",
              "_view_module_version": "2.0.0",
              "_view_name": "HBoxView",
              "box_style": "",
              "children": [
                "IPY_MODEL_9550d02742f043b09d8dc2b1c9033955",
                "IPY_MODEL_e5c8c58892a3452eb137b231e432428e",
                "IPY_MODEL_4cfb367b6b89486baa8cfa96fae55df0"
              ],
              "layout": "IPY_MODEL_69d64c45fb9547fb98c425edf0a7dd15",
              "tabbable": null,
              "tooltip": null
            }
          },
          "d737bb72bddc46588d9f00a12bbee9ab": {
            "model_module": "@jupyter-widgets/base",
            "model_module_version": "2.0.0",
            "model_name": "LayoutModel",
            "state": {
              "_model_module": "@jupyter-widgets/base",
              "_model_module_version": "2.0.0",
              "_model_name": "LayoutModel",
              "_view_count": null,
              "_view_module": "@jupyter-widgets/base",
              "_view_module_version": "2.0.0",
              "_view_name": "LayoutView",
              "align_content": null,
              "align_items": null,
              "align_self": null,
              "border_bottom": null,
              "border_left": null,
              "border_right": null,
              "border_top": null,
              "bottom": null,
              "display": null,
              "flex": null,
              "flex_flow": null,
              "grid_area": null,
              "grid_auto_columns": null,
              "grid_auto_flow": null,
              "grid_auto_rows": null,
              "grid_column": null,
              "grid_gap": null,
              "grid_row": null,
              "grid_template_areas": null,
              "grid_template_columns": null,
              "grid_template_rows": null,
              "height": null,
              "justify_content": null,
              "justify_items": null,
              "left": null,
              "margin": null,
              "max_height": null,
              "max_width": null,
              "min_height": null,
              "min_width": null,
              "object_fit": null,
              "object_position": null,
              "order": null,
              "overflow": null,
              "padding": null,
              "right": null,
              "top": null,
              "visibility": null,
              "width": null
            }
          },
          "d955c97a909e47d88d57ed722b1506a3": {
            "model_module": "@jupyter-widgets/base",
            "model_module_version": "2.0.0",
            "model_name": "LayoutModel",
            "state": {
              "_model_module": "@jupyter-widgets/base",
              "_model_module_version": "2.0.0",
              "_model_name": "LayoutModel",
              "_view_count": null,
              "_view_module": "@jupyter-widgets/base",
              "_view_module_version": "2.0.0",
              "_view_name": "LayoutView",
              "align_content": null,
              "align_items": null,
              "align_self": null,
              "border_bottom": null,
              "border_left": null,
              "border_right": null,
              "border_top": null,
              "bottom": null,
              "display": null,
              "flex": null,
              "flex_flow": null,
              "grid_area": null,
              "grid_auto_columns": null,
              "grid_auto_flow": null,
              "grid_auto_rows": null,
              "grid_column": null,
              "grid_gap": null,
              "grid_row": null,
              "grid_template_areas": null,
              "grid_template_columns": null,
              "grid_template_rows": null,
              "height": null,
              "justify_content": null,
              "justify_items": null,
              "left": null,
              "margin": null,
              "max_height": null,
              "max_width": null,
              "min_height": null,
              "min_width": null,
              "object_fit": null,
              "object_position": null,
              "order": null,
              "overflow": null,
              "padding": null,
              "right": null,
              "top": null,
              "visibility": null,
              "width": null
            }
          },
          "e5c8c58892a3452eb137b231e432428e": {
            "model_module": "@jupyter-widgets/controls",
            "model_module_version": "2.0.0",
            "model_name": "FloatProgressModel",
            "state": {
              "_dom_classes": [],
              "_model_module": "@jupyter-widgets/controls",
              "_model_module_version": "2.0.0",
              "_model_name": "FloatProgressModel",
              "_view_count": null,
              "_view_module": "@jupyter-widgets/controls",
              "_view_module_version": "2.0.0",
              "_view_name": "ProgressView",
              "bar_style": "success",
              "description": "",
              "description_allow_html": false,
              "layout": "IPY_MODEL_167b1312e7a44878b9fbd33829f4a104",
              "max": 4.0,
              "min": 0.0,
              "orientation": "horizontal",
              "style": "IPY_MODEL_9f8ef1a732544e4582ea281182582064",
              "tabbable": null,
              "tooltip": null,
              "value": 4.0
            }
          }
        },
        "version_major": 2,
        "version_minor": 0
      }
    }
  },
  "nbformat": 4,
  "nbformat_minor": 2
}